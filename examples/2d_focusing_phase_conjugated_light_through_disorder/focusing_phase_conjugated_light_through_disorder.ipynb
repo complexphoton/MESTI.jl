{
 "cells": [
  {
   "cell_type": "markdown",
   "id": "ae0e7aae-9838-44df-9330-8a1d8f9fc85d",
   "metadata": {},
   "source": [
    "# Focusing Phase Conjugated Light Through Disorder"
   ]
  },
  {
   "cell_type": "markdown",
   "id": "96a5a5eb-94ba-49be-9f3f-3e6d71cea482",
   "metadata": {},
   "source": [
    "In this example, we show how to use mesti() to compute the field profile of a point source in a scattering disordered medium, do phase conjugation to determine an incident wavefront that can focus on the the disorder, and then use mesti2s() again to compute the field profile to show its focus."
   ]
  },
  {
   "cell_type": "code",
   "execution_count": null,
   "id": "3bbf017e-e5d1-43fd-9fb5-8f57ecd53c73",
   "metadata": {},
   "outputs": [],
   "source": [
    "# Call necessary packages\n",
    "using MESTI, GeometryPrimitives, LinearAlgebra, Statistics, Printf\n",
    "\n",
    "# Include the function to build epsilon_xx for the disordered\n",
    "include(\"build_epsilon_disorder.jl\");"
   ]
  },
  {
   "cell_type": "markdown",
   "id": "7edaaf3a-04c0-4d63-a1d2-510e81bed02f",
   "metadata": {},
   "source": [
    "# System parameters"
   ]
  },
  {
   "cell_type": "code",
   "execution_count": null,
   "id": "3a6b842a-c17c-456a-8a8a-7ccd4fd5b905",
   "metadata": {},
   "outputs": [],
   "source": [
    "# dimensions of the system, in units of the wavelength lambda_0\n",
    "dx      = 1/15  # discretization grid size\n",
    "W       = 360   # width of the scattering region\n",
    "L       = 90    # thickness of the scattering region\n",
    "L_tot   = 150   # full length of the system for plotting\n",
    "r_min   = 0.2   # minimal radius of the cylindrical scatterers\n",
    "r_max   = 0.4   # maximal radius of the cylindrical scatterers\n",
    "min_sep = 0.05  # minimal separation between cylinders\n",
    "number_density = 1.3  # number density, in units of 1/lambda_0^2\n",
    "rng_seed = 0   # random number generator seed\n",
    "\n",
    "# relative permittivity, unitless\n",
    "epsilon_scat = 1.2^2  # cylindrical scatterers\n",
    "epsilon_bg   = 1.0^2  # background in the scattering region\n",
    "epsilon_low  = 1.0^2  # frees space on the low side\n",
    "epsilon_high = 1.0^2  # frees space on the high side\n",
    "\n",
    "yBC = \"periodic\" # boundary condition in y\n",
    "\n",
    "# generate a random collection of non-overlapping cylinders\n",
    "# note: subpixel smoothing is not applied for simplicity\n",
    "build_TM = true\n",
    "no_scatterered_center = true\n",
    "(epsilon, y0_list, z0_list, r0_list, y_Ex, z_Ex) =\n",
    "build_epsilon_disorder(W, L, r_min, r_max, min_sep,  \n",
    "                       number_density, rng_seed, dx,\n",
    "                       epsilon_scat, epsilon_bg, build_TM; \n",
    "                       no_scatterer_center = true);"
   ]
  },
  {
   "cell_type": "markdown",
   "id": "be175504-fd46-4922-9262-527fa6389963",
   "metadata": {},
   "source": [
    "# Compute the field profile of a point source "
   ]
  },
  {
   "cell_type": "code",
   "execution_count": null,
   "id": "2dd86e6e-332d-4cf9-93f2-5874933c0d45",
   "metadata": {},
   "outputs": [],
   "source": [
    "syst = Syst()\n",
    "pml_npixels = 15\n",
    "syst.length_unit  = \"lambda_0\"\n",
    "syst.wavelength = 1\n",
    "syst.dx = dx\n",
    "syst.yBC = yBC\n",
    "# specify the permittivity profile of the simulation domain including the low side, scattering region and the high side.\n",
    "syst.epsilon_xx = cat(epsilon_low*ones(size(epsilon,1),pml_npixels+1), epsilon, epsilon_high*ones(size(epsilon,1),pml_npixels+1), dims=2)\n",
    "\n",
    "# specify the input (point source in the middle of the disordered)\n",
    "m0_focus = Int((W/dx)/2)\n",
    "l0_focus = Int((L/dx)/2)\n",
    "Bx = Source_struct()\n",
    "Bx.pos = [[m0_focus,l0_focus+pml_npixels+1,1,1]]\n",
    "Bx.data = [ones(1,1)]\n",
    "\n",
    "# put PML along z-direction\n",
    "pml = get_optimal_PML(syst.wavelength/syst.dx)\n",
    "pml.npixels = pml_npixels\n",
    "pml.direction = \"z\"\n",
    "syst.PML = [pml]\n",
    "\n",
    "# field profile: input from a point source\n",
    "Ex_field, _ = mesti(syst, [Bx]);"
   ]
  },
  {
   "cell_type": "markdown",
   "id": "21c79756-b0be-4e62-b998-ce405190a866",
   "metadata": {},
   "source": [
    "# Compute the field profile of a point source "
   ]
  },
  {
   "cell_type": "code",
   "execution_count": null,
   "id": "177ff4ee-0861-44f0-a951-2d23ec1bb1ec",
   "metadata": {},
   "outputs": [],
   "source": [
    "# Specify the system for mesti2s() and mesti_build_channels()\n",
    "syst = Syst()\n",
    "syst.epsilon_xx = epsilon\n",
    "syst.length_unit  = \"lambda_0\"\n",
    "syst.wavelength = 1\n",
    "syst.dx = dx\n",
    "syst.yBC = yBC\n",
    "syst.epsilon_low = epsilon_low\n",
    "syst.epsilon_high = epsilon_high\n",
    "syst.zPML = [pml]\n",
    "\n",
    "# equivalent average epsilon for this disordered system\n",
    "epsilon_ave = mean(epsilon)\n",
    "\n",
    "# build channels for the equivalent average epsilon and low side (air)\n",
    "channels_ave_epsilon = mesti_build_channels(Int(W/dx), yBC, 2*pi*syst.wavelength*dx, epsilon_ave)\n",
    "channels_low         = mesti_build_channels(Int(W/dx), yBC, 2*pi*syst.wavelength*dx, epsilon_low)\n",
    "N_prop_ave_epsilon = channels_ave_epsilon.N_prop # number of propagating channels on the equivalent average epsilon \n",
    "N_prop_low = channels_low.N_prop                 # number of propagating channels on the low side \n",
    "\n",
    "dn = 0.5\n",
    "# regular focus wavefront\n",
    "wf_reg_focus = exp.(-1im*channels_ave_epsilon.kydx_prop*(m0_focus)) .* exp.(-1im*channels_ave_epsilon.kzdx_prop*(l0_focus-dn))\n",
    "\n",
    "# build projection matrix C on the low side\n",
    "C_low = channels_low.sqrt_nu_prop.*exp.((-1im*dn)*channels_low.kzdx_prop).*convert(Matrix, adjoint(channels_low.u_x_m(channels_low.kydx_prop)))\n",
    "proj_coefficient = C_low*Ex_field[:,pml_npixels+1]\n",
    "\n",
    "# specify two input incident wavefronts:\n",
    "# (1) regular focusing wavefront\n",
    "# (2) phase-conjugated focusing wavefront\n",
    "input = wavefront()\n",
    "input.v_low = zeros(ComplexF64, N_prop_low, 2)\n",
    "input.v_low[:, 1] = wf_reg_focus[Int((N_prop_ave_epsilon-N_prop_low)/2+1):Int(end-(N_prop_ave_epsilon-N_prop_low)/2)]/norm(wf_reg_focus[Int((N_prop_ave_epsilon-N_prop_low)/2+1):Int(end-(N_prop_ave_epsilon-N_prop_low)/2)])\n",
    "\n",
    "# for the phased conjugated input: \n",
    "# conj(coefficient*u) = conj(coefficient)*conj(u) = conj(coefficient)*conj(u) =  conj(coefficient)*perm(u(ky)) = perm(conj(coefficient))*u(ky)\n",
    "# perm() means permute a vector that switches one propagating channel with one\n",
    "# having a complex-conjugated transverse profile\n",
    "# for the periodic boundary, this flips the sign of ky. \n",
    "input.v_low[:, 2] = conj(proj_coefficient)[channels_low.ind_prop_conj]/norm(proj_coefficient)\n",
    "\n",
    "# we will also get the field profile in the free spaces on the two sides, for\n",
    "# plotting purpose.\n",
    "opts = Opts()\n",
    "opts.nz_low = round((L_tot-L)/2/dx)\n",
    "opts.nz_high = opts.nz_low\n",
    "\n",
    "# for field-profile computations\n",
    "Ex, _, _ = mesti2s(syst, input, opts);"
   ]
  },
  {
   "cell_type": "markdown",
   "id": "bcbd968e-9660-4c06-b586-b2d8c836b3b2",
   "metadata": {},
   "source": [
    "# Animate the field profiles and compare the intensity profiles"
   ]
  },
  {
   "cell_type": "code",
   "execution_count": null,
   "id": "25e31784-9684-4546-9550-f073228e22b6",
   "metadata": {},
   "outputs": [],
   "source": [
    "using Plots\n",
    "# normalize the field amplitude with respect to the phase-conjugated-input profile\n",
    "Ex = Ex/maximum(abs.(Ex[:,:,2]))\n",
    "\n",
    "nframes_per_period = 20\n",
    "\n",
    "# extend the x coordinate to include free spaces on the two sides\n",
    "z_Ex = vcat(z_Ex[1] .- (opts.nz_low:-1:1)*dx, z_Ex, z_Ex[end] .+ (1:opts.nz_high)*dx)\n",
    "\n",
    "# animate the field profile with the regular focusing input\n",
    "anim_regular_focusing = @animate for ii ∈ 0:(nframes_per_period-1)\n",
    "    plt1 = (heatmap(z_Ex, collect(y_Ex), real.(Ex[:,:,1]*exp(-1im*2*π*ii/nframes_per_period)),\n",
    "            xlabel = \"z\", ylabel = \"y\", c = :balance, clims=(-1, 1), aspect_ratio=:equal, dpi = 450,\n",
    "            xlimits=(-25,115), ylimits=(0,360)))\n",
    "    scatter!(plt1, z0_list, y0_list, markersize=r0_list, alpha=0.3, \n",
    "             color=:black, legend=false, dpi = 450)\n",
    "end\n",
    "gif(anim_regular_focusing, \"regular_focusing.gif\", fps = 10)"
   ]
  },
  {
   "cell_type": "code",
   "execution_count": null,
   "id": "93c78672-82f2-4c70-8e0d-ea158637876d",
   "metadata": {},
   "outputs": [],
   "source": [
    "# animate the field profile of the phase-conjugated focusing input\n",
    "anim_phase_congjuation_focusing = @animate for ii ∈ 0:(nframes_per_period-1)\n",
    "    plt2 = (heatmap(z_Ex, collect(y_Ex), real.(Ex[:,:,2]*exp(-1im*2*π*ii/nframes_per_period)),\n",
    "            xlabel = \"z\", ylabel = \"y\", c = :balance, clims=(-1, 1), aspect_ratio=:equal, dpi = 450,\n",
    "            xlimits=(-25,115), ylimits=(0,360)))\n",
    "    scatter!(plt2, z0_list, y0_list,markersize=r0_list, alpha=0.3, \n",
    "             color=:black, legend=false, dpi = 450)\n",
    "end\n",
    "gif(anim_phase_congjuation_focusing, \"phase_conjugated_focusing.gif\", fps = 10)"
   ]
  },
  {
   "cell_type": "code",
   "execution_count": null,
   "id": "9f84dc23-110d-4870-8826-085bf79f8fe5",
   "metadata": {},
   "outputs": [],
   "source": [
    "# plot the intensity profiles and compare them\n",
    "# limit the plotting to the small region around the center of the focusing region between y ∈ [175, 185] and z ∈ [40, 50]\n",
    "y_Ex_ind_focusing_range = searchsortedfirst(y_Ex, 175)-1:searchsortedfirst(y_Ex, 185)\n",
    "z_Ex_ind_focusing_range  = searchsortedfirst(z_Ex, 40)-1:searchsortedfirst(z_Ex, 50)\n",
    "\n",
    "# find the index for the scatters within the plotting range\n",
    "scatterer_ind_focusing_range = (y0_list .+ r0_list) .>= 175 .&& (y0_list .- r0_list) .<= 185 .&& (z0_list .+ r0_list) .>= 40 .&& (z0_list .- r0_list) .<= 50\n",
    "y0_list_focusing_range = y0_list[scatterer_ind_focusing_range]\n",
    "z0_list_focusing_range = z0_list[scatterer_ind_focusing_range]\n",
    "r0_list_focusing_range = r0_list[scatterer_ind_focusing_range]\n",
    "\n",
    "theta = range(0, stop=2π, length=100)\n",
    "\n",
    "plt3 = heatmap(z_Ex[z_Ex_ind_focusing_range], y_Ex[y_Ex_ind_focusing_range], \n",
    "               abs.(Ex[y_Ex_ind_focusing_range, z_Ex_ind_focusing_range, 1]).^2,\n",
    "               xlabel=\"z\", ylabel=\"y\", title=\"Regular focusing\", \n",
    "               c=cgrad(:copper, rev=false), clims=(0, 1), aspect_ratio=:equal, dpi=600)\n",
    "\n",
    "               for i in 1:length(r0_list_focusing_range)\n",
    "    y0 = y0_list_focusing_range[i]\n",
    "    z0 = z0_list_focusing_range[i]\n",
    "    r0 = r0_list_focusing_range[i]\n",
    "\n",
    "    z0_circle = z0 .+ r0 * cos.(theta)\n",
    "    y0_circle = y0 .+ r0 * sin.(theta)\n",
    "\n",
    "    plot!(plt3, z0_circle, y0_circle, lw=0.5, color=:white, legend=false, \n",
    "          xlims=(40, 50), ylims=(175, 185))\n",
    "end\n",
    "            \n",
    "plt4 = heatmap(z_Ex[z_Ex_ind_focusing_range], y_Ex[y_Ex_ind_focusing_range], \n",
    "                 abs.(Ex[y_Ex_ind_focusing_range, z_Ex_ind_focusing_range, 2]).^2,\n",
    "                 xlabel=\"z\", ylabel=\"y\", title=\"Phase conjugated focusing\", \n",
    "                 c=cgrad(:copper, rev=false), clims=(0, 1), aspect_ratio=:equal, dpi=600)\n",
    "\n",
    "for i in 1:length(r0_list_focusing_range)\n",
    "    y0 = y0_list_focusing_range[i]\n",
    "    z0 = z0_list_focusing_range[i]\n",
    "    r0 = r0_list_focusing_range[i]\n",
    "\n",
    "    z0_circle = z0 .+ r0 * cos.(theta)\n",
    "    y0_circle = y0 .+ r0 * sin.(theta)\n",
    "\n",
    "    plot!(plt4, z0_circle, y0_circle, lw=0.5, color=:white, legend=false, \n",
    "          xlims=(40, 50), ylims=(175, 185))\n",
    "end\n",
    "\n",
    "intensity_plot = plot(plt3, plt4, layout = @layout([a b]), size=(800, 400))\n",
    "display(intensity_plot)\n",
    "png(intensity_plot, \"intensity_comparison.png\")"
   ]
  },
  {
   "cell_type": "code",
   "execution_count": null,
   "id": "2335e305-21c2-4f4e-920d-6ce6b12da080",
   "metadata": {},
   "outputs": [],
   "source": [
    "# compare the ratio of intensity on the focus point\n",
    "println(\"I_phase_congugation(y_0,z_0)/I_reg(y_0,z_0) = \", @sprintf(\"%d\", round(abs.(Ex[m0_focus,opts.nz_low+l0_focus,2]).^2/abs.(Ex[m0_focus,opts.nz_low+l0_focus,1]).^2, digits=-2)))"
   ]
  }
 ],
 "metadata": {
  "kernelspec": {
   "display_name": "Julia 1.9.3",
   "language": "julia",
   "name": "julia-1.9"
  },
  "language_info": {
   "file_extension": ".jl",
   "mimetype": "application/julia",
   "name": "julia",
   "version": "1.9.3"
  }
 },
 "nbformat": 4,
 "nbformat_minor": 5
}
