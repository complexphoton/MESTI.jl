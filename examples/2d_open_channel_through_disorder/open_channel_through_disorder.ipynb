{
 "cells": [
  {
   "cell_type": "markdown",
   "id": "ba2bdd91-4c7b-484a-92dc-73d078ead93b",
   "metadata": {},
   "source": [
    "# Open Channel Through Disorder"
   ]
  },
  {
   "cell_type": "markdown",
   "id": "eb6ff7d1-90ce-4f54-ace4-14b45759bcbd",
   "metadata": {},
   "source": [
    "In this example, we show how to use mesti2s() to compute the transmission matrix of a strongly scattering disordered medium, analyze the transmission matrix to determine an incident wavefront that can penetrate the disorder with almost 100% transmission (called an \"open channel\"), and then use mesti2s() again to compute the field profile of the open channel while comparing to that of a typical plane-wave input."
   ]
  },
  {
   "cell_type": "code",
   "execution_count": null,
   "id": "f2c5e796-7cef-4dbb-95e3-47989da518ca",
   "metadata": {},
   "outputs": [],
   "source": [
    "# Call necessary packages\n",
    "using MESTI, GeometryPrimitives, Arpack, Printf\n",
    "\n",
    "# Include the function to build epsilon_xx for the disordered\n",
    "include(\"build_epsilon_disorder.jl\");"
   ]
  },
  {
   "cell_type": "markdown",
   "id": "82605a8e-39bb-4ba3-b2ac-863e0ea7b5de",
   "metadata": {},
   "source": [
    "# System parameters"
   ]
  },
  {
   "cell_type": "code",
   "execution_count": null,
   "id": "67718af9-0bbf-4195-a09e-06fe00b0c27f",
   "metadata": {},
   "outputs": [],
   "source": [
    "# dimensions of the system, in units of the wavelength lambda_0\n",
    "dx      = 1/15  # discretization grid size\n",
    "W       = 360   # width of the scattering region\n",
    "L       = 90    # thickness of the scattering region\n",
    "L_tot   = 150   # full length of the system for plotting\n",
    "r_min   = 0.2   # minimal radius of the cylindrical scatterers\n",
    "r_max   = 0.4   # maximal radius of the cylindrical scatterers\n",
    "min_sep = 0.05  # minimal separation between cylinders\n",
    "number_density = 1.3  # number density, in units of 1/lambda_0^2\n",
    "rng_seed = 0   # random number generator seed\n",
    "\n",
    "# relative permittivity, unitless\n",
    "epsilon_scat = 1.2^2  # cylindrical scatterers\n",
    "epsilon_bg   = 1.0^2  # background in the scattering region\n",
    "epsilon_low  = 1.0^2  # frees space on the low side\n",
    "epsilon_high = 1.0^2  # frees space on the high side\n",
    "\n",
    "yBC = \"periodic\" # boundary condition in y\n",
    "\n",
    "# generate a random collection of non-overlapping cylinders\n",
    "# note: subpixel smoothing is not applied for simplicity\n",
    "build_TM = true\n",
    "(epsilon_xx, y0_list, z0_list, r0_list, y_Ex, z_Ex) = \n",
    "build_epsilon_disorder(W, L, r_min, r_max, min_sep,  \n",
    "                       number_density, rng_seed, dx,\n",
    "                       epsilon_scat, epsilon_bg, build_TM);"
   ]
  },
  {
   "cell_type": "markdown",
   "id": "e06862c9-e375-4268-b3ec-0ec55b6bb9e9",
   "metadata": {},
   "source": [
    "# Compute the transmission matrix "
   ]
  },
  {
   "cell_type": "code",
   "execution_count": null,
   "id": "05fed379-8d7c-447c-a5b7-d1b28b715dc1",
   "metadata": {},
   "outputs": [],
   "source": [
    "syst = Syst()\n",
    "syst.epsilon_xx = epsilon_xx\n",
    "syst.epsilon_low = epsilon_low\n",
    "syst.epsilon_high = epsilon_high\n",
    "syst.length_unit  = \"lambda_0\"\n",
    "syst.wavelength = 1\n",
    "syst.dx = dx\n",
    "syst.yBC = yBC\n",
    "\n",
    "# specify the input and output\n",
    "input = channel_type()\n",
    "output = channel_type()\n",
    "# input from the low side\n",
    "input.side = \"low\"\n",
    "# output to the high side\n",
    "output.side = \"high\"\n",
    "\n",
    "# put PML along z-direction\n",
    "pml = mesti_optimal_pml_params(syst.wavelength/syst.dx)\n",
    "pml_npixels = 15\n",
    "pml.npixels = pml_npixels\n",
    "syst.zPML = [pml]\n",
    "\n",
    "# transmission matrix: input from the low side, output to the high side\n",
    "t, channels, _ = mesti2s(syst, input, output);"
   ]
  },
  {
   "cell_type": "markdown",
   "id": "a82f250f-6083-42f9-b407-9b3dc2dd5a11",
   "metadata": {},
   "source": [
    "# Compare an open channel and a plane-wave input"
   ]
  },
  {
   "cell_type": "code",
   "execution_count": null,
   "id": "bfefce8d-98a1-4988-b22a-8bc551177e8a",
   "metadata": {},
   "outputs": [],
   "source": [
    "# The most-open channels is the singular vector of the transmission matrix with \n",
    "# the largest singular value.\n",
    "(_, sigma_max, v_open), _, _, _, _ = svds(t, nsv=1)\n",
    "\n",
    "N_prop_low = channels.low.N_prop # number of propagating channels on the low side\n",
    "ind_normal = Int(round((N_prop_low+1)/2)) # index of the normal-incident plane-wave\n",
    "\n",
    "# compare the transmission\n",
    "T_avg = sum(abs.(t).^2)/N_prop_low # average over all channels\n",
    "T_PW  = sum(abs.(t[:,ind_normal]).^2) # normal-incident plane-wave\n",
    "T_open = sigma_max[1].^2 # open channel\n",
    "\n",
    "println(\" T_avg   = \", @sprintf(\"%.2f\", T_avg), \"\\n T_PW    = \", @sprintf(\"%.2f\", T_PW), \"\\n T_open  = \", @sprintf(\"%.2f\", T_open))"
   ]
  },
  {
   "cell_type": "code",
   "execution_count": null,
   "id": "9e8b1445-09c5-440b-bc67-3971be14c8a8",
   "metadata": {},
   "outputs": [],
   "source": [
    "# specify two input incident wavefronts:\n",
    "# (1) normal-incident plane-wave\n",
    "# (2) open channel\n",
    "input = wavefront()\n",
    "input.v_low = zeros(ComplexF64, N_prop_low, 2)\n",
    "input.v_low[ind_normal, 1] = 1\n",
    "input.v_low[:, 2] = v_open\n",
    "\n",
    "# we will also get the field profile in the free spaces on the two sides, for\n",
    "# plotting purpose.\n",
    "opts = Opts()\n",
    "nz_low  = round(Int,(L_tot-L)/2/dx)\n",
    "nz_high = nz_low\n",
    "opts.nz_low = nz_low\n",
    "opts.nz_high = nz_high\n",
    "\n",
    "# for field-profile computations\n",
    "Ex, _, _ = mesti2s(syst, input, opts);"
   ]
  },
  {
   "cell_type": "markdown",
   "metadata": {},
   "source": [
    "# Define the matrix B by users and compare the field results"
   ]
  },
  {
   "cell_type": "code",
   "execution_count": null,
   "metadata": {},
   "outputs": [],
   "source": [
    "# do the same field-profile computations through defining matrix B by users and using mesti()\n",
    "syst = Syst()\n",
    "ny_Ex = size(epsilon_xx,1) # total number of pixel along y for Ex grids\n",
    "\n",
    "# in mesti(), syst  .epsilon_low and syst.epsilon_high are not needed\n",
    "# in mesti(), we provide the whole epsilon_xx including the scattering region, source/detection region, and PML region\n",
    "syst.epsilon_xx = cat(epsilon_low*ones(ny_Ex,pml_npixels+1), epsilon_xx, epsilon_high*ones(ny_Ex,pml_npixels+1), dims=2)\n",
    "# in previous mesti2s() calculation, \n",
    "# syst.epsilon_xx = epsilon_xx\n",
    "# syst.epsilon_low = epsilon_low   \n",
    "# syst.epsilon_high = epsilon_high\n",
    "syst.length_unit  = \"lambda_0\"\n",
    "syst.wavelength = 1\n",
    "syst.dx = dx\n",
    "syst.yBC = yBC \n",
    "\n",
    "# put PML along z-direction\n",
    "pml = mesti_optimal_pml_params(syst.wavelength/syst.dx)\n",
    "pml.npixels = pml_npixels\n",
    "pml.direction = \"z\" # put\n",
    "syst.PML = [pml]\n",
    "# in previous mesti2s() calculation, \n",
    "# syst.zPML = [pml] (and do not need to specify pml.direction = \"z\")\n",
    "\n",
    "Bx = Source_struct()\n",
    "u_prop_low_Ex = channels.u_x_m(channels.low.kydx_prop) # the transverse profiles, u_Ex, for the propagating ones\n",
    "\n",
    "# If it is a single propagating channel, a line source of -2i*sqrt(nu)*u_Ex(m) at l=0 will generate an z-flux-normalized incident field of exp(i*kzdx*|l|)*u_Ex(l)/sqrt(nu), where nu = sin(kzdx)\n",
    "# here, we want input wavefront fields on the low side, which is a superposition of propagating channels\n",
    "# these input wavefront fields on the low side are specified by v_low, and we take superpositions of the propagating channels using the v coefficients, with the sqrt(nu)*exp(-i*kzdx*0.5) prefactors included.\n",
    "# we will multiply the -2i prefactor at the end.\n",
    "# the source B_Ex would generate the input wavefront fields\n",
    "B_Ex_low = u_prop_low_Ex*(channels.low.sqrt_nu_prop.*exp.((-1im*0.5)*channels.low.kzdx_prop).*v_low) # 0.5 pixel backpropagation indicates that the source is half a pixel away from z = 0\n",
    "Bx.data = [B_Ex_low] # the value of the source\n",
    "\n",
    "# the position of the source specify by a rectangle.\n",
    "# [m1, l1, w, h] specifies the location and the size of the\n",
    "# rectangle. Here, (m1, l1) is the index of the (y,z) coordinate of\n",
    "# the smaller-y, smaller-z corner of the rectangle, at the location\n",
    "# of Ex(m1, l1); (w, h) is the width and height of the rectangle\n",
    "# line source is put on the lower source region, where is one pixel outside PML region.\n",
    "Bx.pos = [[1,pml_npixels+1,ny_Ex,1]] \n",
    "\n",
    "opts = Opts()\n",
    "# the -2i prefactor would be multiplied by.\n",
    "opts.prefactor = -2im\n",
    "\n",
    "Ex_prime, _ = mesti(syst, [Bx], opts)"
   ]
  },
  {
   "cell_type": "code",
   "execution_count": null,
   "metadata": {},
   "outputs": [],
   "source": [
    "# Excluding the extra padding and PML region, compare these field profiles\n",
    "println(\"Maximum absolute value of field difference between constructing the source matrix B through mesti2s() and constructing by users = \", \n",
    "         maximum(abs.(Ex[:,nz_low+1:end-nz_high-1,:] - Ex_prime[:,pml_npixels+1+1:end-pml_npixels-1-1,:])))"
   ]
  },
  {
   "cell_type": "markdown",
   "metadata": {},
   "source": [
    "# Animate the field profiles"
   ]
  },
  {
   "cell_type": "code",
   "execution_count": null,
   "id": "ea7956b5-4c79-494f-8829-ecc70261e8b4",
   "metadata": {},
   "outputs": [],
   "source": [
    "using Plots\n",
    "# normalize the field amplitude with respect to the plane-wave-input profile\n",
    "Ex = Ex/maximum(abs.(Ex[:,:,1]))\n",
    "\n",
    "nframes_per_period = 20\n",
    "\n",
    "# extend the x coordinate to include free spaces on the two sides\n",
    "z_Ex = vcat(z_Ex[1] .- (opts.nz_low:-1:1)*dx, z_Ex, z_Ex[end] .+ (1:opts.nz_high)*dx)\n",
    "\n",
    "# animate the field profile with plane-wave input\n",
    "anim_pw = @animate for ii ∈ 0:(nframes_per_period-1)\n",
    "    plt1 = (heatmap(z_Ex,collect(y_Ex),real.(Ex[:,:,1]*exp(-1im*2*π*ii/nframes_per_period)),\n",
    "            xlabel = \"z\", ylabel = \"y\", c = :balance, clims=(-1, 1), aspect_ratio=:equal, dpi = 450,\n",
    "            xlimits=(-25,115), ylimits=(0,360)))\n",
    "    scatter!(plt1, z0_list, y0_list,markersize=r0_list*0.88, alpha=0.3, color=:black, legend=false, dpi = 450)\n",
    "end\n",
    "gif(anim_pw, \"disorder_PW_input.gif\", fps = 10)"
   ]
  },
  {
   "cell_type": "code",
   "execution_count": null,
   "id": "1db3be0d-287c-407a-b214-e8b891fb32e0",
   "metadata": {},
   "outputs": [],
   "source": [
    "# animate the field profile of the open channel\n",
    "anim_open_ch = @animate for ii ∈ 0:(nframes_per_period-1)\n",
    "    plt2 = (heatmap(z_Ex,collect(y_Ex),real.(Ex[:,:,2]*exp(-1im*2*π*ii/nframes_per_period)),\n",
    "            xlabel = \"z\", ylabel = \"y\", c = :balance, clims=(-1, 1), aspect_ratio=:equal, dpi = 450,\n",
    "            xlimits=(-25,115), ylimits=(0,360)))\n",
    "    scatter!(plt2, z0_list, y0_list,markersize=r0_list*0.88, alpha=0.3, color=:black, legend=false, dpi = 450)\n",
    "end\n",
    "gif(anim_open_ch, \"disorder_open_channel.gif\", fps = 10)"
   ]
  }
 ],
 "metadata": {
  "kernelspec": {
   "display_name": "Julia 1.9.3",
   "language": "julia",
   "name": "julia-1.9"
  },
  "language_info": {
   "file_extension": ".jl",
   "mimetype": "application/julia",
   "name": "julia",
   "version": "1.9.3"
  }
 },
 "nbformat": 4,
 "nbformat_minor": 5
}
