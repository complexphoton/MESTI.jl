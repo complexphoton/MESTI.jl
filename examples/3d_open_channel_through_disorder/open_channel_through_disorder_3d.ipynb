{
 "cells": [
  {
   "cell_type": "markdown",
   "id": "ba2bdd91-4c7b-484a-92dc-73d078ead93b",
   "metadata": {},
   "source": [
    "# Open Channel Through Disorder in 3D System"
   ]
  },
  {
   "cell_type": "markdown",
   "id": "eb6ff7d1-90ce-4f54-ace4-14b45759bcbd",
   "metadata": {},
   "source": [
    "In this example, we show how to use mesti2s() to compute the transmission matrix of a 3D scattering disordered medium, analyze the transmission matrix to determine an incident wavefront that can penetrate the disorder with almost 100% transmission (called an \"open channel\") in 3D system."
   ]
  },
  {
   "cell_type": "code",
   "execution_count": null,
   "id": "f2c5e796-7cef-4dbb-95e3-47989da518ca",
   "metadata": {},
   "outputs": [],
   "source": [
    "# load necessary packages\n",
    "using MESTI, LinearAlgebra, Statistics, Printf\n",
    "\n",
    "# include the function to build permittivity tensor for the disordered \n",
    "# and plot the transmission eigenvalue distribution\n",
    "include(\"build_epsilon_disorder_3d.jl\")\n",
    "include(\"plot_and_compare_distribution.jl\");"
   ]
  },
  {
   "cell_type": "markdown",
   "id": "82605a8e-39bb-4ba3-b2ac-863e0ea7b5de",
   "metadata": {},
   "source": [
    "# System parameters"
   ]
  },
  {
   "cell_type": "code",
   "execution_count": null,
   "id": "67718af9-0bbf-4195-a09e-06fe00b0c27f",
   "metadata": {},
   "outputs": [],
   "source": [
    "# dimensions of the system, in units of µm\n",
    "lambda_0   = 0.532       # free space wavelength (µm) \n",
    "dx         = lambda_0/10 # discretization grid size (µm)\n",
    "W_x        = 4           # width of the scattering region along x-direction (µm)\n",
    "W_y        = 4           # width of the scattering region along y-direction (µm)\n",
    "L          = 2           # thickness of the scattering region (µm)\n",
    "r_min      = 0.1         # minimal radius of the cylindrical scatterers (µm)\n",
    "r_max      = 0.1         # maximal radius of the cylindrical scatterers (µm)\n",
    "min_sep    = 0.05        # minimal separation between cylinders (µm)\n",
    "rng_seed   = 0           # random number generator seed\n",
    "number_density = 28      # number density, in units of 1/lambda_0^2\n",
    "\n",
    "# relative permittivity, unitless\n",
    "epsilon_scat = 2.54^2  # cylindrical scatterers\n",
    "epsilon_bg   = 1.00^2  # background in the scattering region\n",
    "epsilon_low  = 1.00^2  # frees space on the low side\n",
    "epsilon_high = 1.00^2  # frees space on the high side\n",
    "\n",
    "# edge of the scattering region (where we put scatterers)\n",
    "x1 = 0  \n",
    "x2 = ceil(Int, W_x/dx) * dx\n",
    "y1 = 0\n",
    "y2 = ceil(Int, W_y/dx) * dx\n",
    "z1 = r_min\n",
    "z2 = (ceil(Int, L/dx)+1) * dx - r_min\n",
    "\n",
    "# generate a random collection of non-overlapping cylinders\n",
    "(epsilon_xx, epsilon_xy, epsilon_xz, \n",
    " epsilon_yx, epsilon_yy, epsilon_yz, \n",
    " epsilon_zx, epsilon_zy, epsilon_zz) = build_epsilon_disorder_3d(W_x, W_y, L, r_min, \n",
    "                                                                r_max, min_sep, number_density, \n",
    "                                                                rng_seed, dx, epsilon_scat,                                                                           epsilon_bg, \n",
    "                                                                x1, x2, y1, y2, z1, z2);"
   ]
  },
  {
   "cell_type": "markdown",
   "id": "e06862c9-e375-4268-b3ec-0ec55b6bb9e9",
   "metadata": {},
   "source": [
    "# Compute the transmission matrix "
   ]
  },
  {
   "cell_type": "code",
   "execution_count": null,
   "id": "05fed379-8d7c-447c-a5b7-d1b28b715dc1",
   "metadata": {},
   "outputs": [],
   "source": [
    "syst= Syst()\n",
    "syst.epsilon_low = epsilon_low\n",
    "syst.epsilon_high = epsilon_high\n",
    "syst.length_unit = \"µm\"\n",
    "syst.wavelength = lambda_0\n",
    "syst.dx = dx\n",
    "syst.xBC = \"periodic\"\n",
    "syst.yBC = \"periodic\"\n",
    "syst.epsilon_xx = epsilon_xx\n",
    "syst.epsilon_xy = epsilon_xy\n",
    "syst.epsilon_xz = epsilon_xz\n",
    "syst.epsilon_yx = epsilon_yx\n",
    "syst.epsilon_yy = epsilon_yy\n",
    "syst.epsilon_yz = epsilon_yz\n",
    "syst.epsilon_zx = epsilon_zx\n",
    "syst.epsilon_zy = epsilon_zy\n",
    "syst.epsilon_zz = epsilon_zz\n",
    "\n",
    "# specify inputs and output\n",
    "input = channel_type()\n",
    "output = channel_type()\n",
    "# input from the low side with both s-polarization and p-polarization\n",
    "input.side = \"low\"\n",
    "input.polarization = \"both\"\n",
    "# output to the high side with both s-polarization and p-polarization\n",
    "output.side = \"high\"\n",
    "output.polarization = \"both\"\n",
    "\n",
    "# put PML along z-direction\n",
    "pml_npixels = 20\n",
    "pml = PML(pml_npixels)\n",
    "syst.zPML = [pml]\n",
    "\n",
    "opts = Opts()\n",
    "# clear variables to reduce peak memory usage\n",
    "opts.clear_memory = true\n",
    "opts.clear_BC = true\n",
    "\n",
    "# note this transmission matrix calculation may take between one to two hours in single-core,\n",
    "# but a few minutes in mutlithreading calculation.\n",
    "# utilizting mutlithreading is highly recommended \n",
    "t, channels, _ = mesti2s(syst, input, output, opts)\n",
    "\n",
    "(_, sigma_max, v_open), _, _, _, _ = svds(t, nsv=1);"
   ]
  },
  {
   "cell_type": "markdown",
   "id": "a82f250f-6083-42f9-b407-9b3dc2dd5a11",
   "metadata": {},
   "source": [
    "# Compare an open channel and a plane-wave input"
   ]
  },
  {
   "cell_type": "code",
   "execution_count": null,
   "id": "bfefce8d-98a1-4988-b22a-8bc551177e8a",
   "metadata": {},
   "outputs": [],
   "source": [
    "# perform the singular value decomposition (SVD) on the transmission matrix\n",
    "_, sigma, v = svd(t)\n",
    "\n",
    "# transmission eigenvalue (eigenvalue of t^(dag)*t) is the square of the signular value of t \n",
    "tau = sigma.^2\n",
    "\n",
    "# The most-open channels is the singular vector of the transmission matrix with \n",
    "# the largest singular value.\n",
    "v_open = v[:, 1]\n",
    "sigma_open = sigma[1]\n",
    "\n",
    "# The most-closed channels is the singular vector of the transmission matrix with \n",
    "# the smallest singular value.\n",
    "v_closed = v[:, end]\n",
    "sigma_closed = sigma[end]\n",
    "\n",
    "N_prop_low_per_pol = channels.low.N_prop # number of propagating channels per polarization on the low side\n",
    "ind_normal = Int(round((N_prop_low_per_pol+1)/2)) # index of the normal-incident plane-wave\n",
    "\n",
    "# compare the transmission\n",
    "T_avg = sum(abs.(t).^2)/(2*N_prop_low_per_pol) # average over all channels\n",
    "T_PW  = sum(abs.(t[:,ind_normal]).^2) # normal-incident plane-wave\n",
    "T_closed = sigma_closed.^2 # closed channel\n",
    "T_open = sigma_open.^2 # open channel\n",
    "\n",
    "println(\" T_avg   = \", @sprintf(\"%.4f\", T_avg), \"\\n T_PW    = \", @sprintf(\"%.4f\", T_PW), \"\\n T_closed= \", @sprintf(\"%.4f\", T_closed), \"\\n T_open  = \", @sprintf(\"%.4f\", T_open))"
   ]
  },
  {
   "cell_type": "markdown",
   "metadata": {},
   "source": [
    "# Plot the the transmission eigenvalue distribution"
   ]
  },
  {
   "cell_type": "code",
   "execution_count": null,
   "metadata": {},
   "outputs": [],
   "source": [
    "# transmission eigenvalue (eigenvalue of t^(dag)*t) is the square of the signular value of t \n",
    "tau = sigma.^2\n",
    "\n",
    "# plot the transmission eigenvalue distribution from transmission matrix t\n",
    "# and compare it with the analytic distribution (bimodal DMPK distribution)\n",
    "using Plots\n",
    "plot_and_compare_distribution(tau);"
   ]
  },
  {
   "cell_type": "markdown",
   "id": "2cc26c30",
   "metadata": {},
   "source": [
    "# Compute field profiles for a closed channel, an open channel and a plane-wave input"
   ]
  },
  {
   "cell_type": "code",
   "execution_count": null,
   "id": "1e9d9266",
   "metadata": {},
   "outputs": [],
   "source": [
    "# specify three input incident wavefronts:\n",
    "# (1) closed channel\n",
    "# (2) open channel\n",
    "# (3) normal-incident plane-wave\n",
    "\n",
    "# specify inputs and output\n",
    "input = wavefront()\n",
    "output = nothing\n",
    "\n",
    "input.v_low_s = zeros(ComplexF64, N_prop_low_per_pol, 2)\n",
    "input.v_low_p = zeros(ComplexF64, N_prop_low_per_pol, 3)\n",
    "# wavefront for closed channel\n",
    "input.v_low_s[:,1] = v_closed[1:N_prop_low_per_pol,1]\n",
    "input.v_low_p[:,1] = v_closed[N_prop_low_per_pol+1:N_prop_low_per_pol*2,1]\n",
    "# wavefront for open channel\n",
    "input.v_low_s[:,2] = v_open[1:N_prop_low_per_pol,1]\n",
    "input.v_low_p[:,2] = v_open[N_prop_low_per_pol+1:N_prop_low_per_pol*2,1]\n",
    "# wavefront for normal-incident plane-wave\n",
    "input.v_low_p[Int(ceil(N_prop_low_per_pol/2)),3] = 1\n",
    "\n",
    "opts = Opts()\n",
    "# clear variables to reduce peak memory usage\n",
    "opts.clear_memory = true\n",
    "opts.clear_BC = true\n",
    "opts.use_METIS = true\n",
    "# use the disk to store the LU factors to save memory usage in core\n",
    "# It will require approximately 43 GiB of disk storage to store the LU factors.\n",
    "opts.write_LU_factor_to_disk = true \n",
    "ENV[\"MUMPS_OOC_TMPDIR\"] = \".\" # write the out-of-core (LU factors) files in current folder \n",
    "\n",
    "# note this field-profile calculation may take between one to two hours in single-core,\n",
    "# but a few minutes in mutlithreading calculation.\n",
    "# utilizting mutlithreading is highly recommended \n",
    "(Ex, Ey, Ez, channels, info)= mesti2s(syst, input, output, opts);\n",
    "# Ex, Ey, and Ez are 4D array. \n",
    "# For example, Ex(:,:,:,i) is the field profile Ex given the i-th input source profile."
   ]
  },
  {
   "cell_type": "markdown",
   "id": "526fc075",
   "metadata": {},
   "source": [
    "# Plot the field profiles"
   ]
  },
  {
   "cell_type": "code",
   "execution_count": null,
   "id": "05de303b",
   "metadata": {},
   "outputs": [],
   "source": [
    "# resulting field for Closed/Open from s-polarization input wavefront combined with p-polarization input wavefront\n",
    "Ex_closed = Ex[:,:,:,1]+Ex[:,:,:,3]\n",
    "Ex_open = Ex[:,:,:,2]+Ex[:,:,:,4]\n",
    "# resulting field for normal-incident plane-wave \n",
    "Ex_pw = Ex[:,:,:,5]\n",
    "\n",
    "# normalize the field amplitude with respect to the open-channel profile\n",
    "Ex_open = Ex_open ./maximum(abs.(Ex_open[:,:,:]))\n",
    "Ex_closed = Ex_closed ./maximum(abs.(Ex_open[:,:,:]))\n",
    "Ex_pw = Ex_pw ./maximum(abs.(Ex_open[:,:,:]))\n",
    "\n",
    "# compare and plot the field profiles (real(Ex)) in the plane x = 2 µm\n",
    "heatmap1 = heatmap(real.(Ex_closed[38,:,:]), c = :balance, clims=(-1, 1), \n",
    "        legend = :none, aspect_ratio=:equal, dpi = 450, \n",
    "        ticks = false, framestyle = :none, title = \"Closed channel\")\n",
    "heatmap2 = heatmap(real.(Ex_open[38,:,:]), c = :balance, clims=(-0.3, 0.3), \n",
    "        legend = :none, aspect_ratio=:equal, dpi = 450, \n",
    "        ticks = false, framestyle = :none, title = \"Open channel\")        \n",
    "heatmap3 = heatmap(real.(Ex_pw[38,:,:]), c = :balance, clims=(-1, 1), \n",
    "        legend = :none, aspect_ratio=:equal, dpi = 450, \n",
    "        ticks = false, framestyle = :none, title = \"Plane wave\")\n",
    "plot(heatmap1, heatmap2, heatmap3, layout = (1, 3))"
   ]
  }
 ],
 "metadata": {
  "kernelspec": {
   "display_name": "Julia 1.9.3",
   "language": "julia",
   "name": "julia-1.9"
  },
  "language_info": {
   "file_extension": ".jl",
   "mimetype": "application/julia",
   "name": "julia",
   "version": "1.9.3"
  }
 },
 "nbformat": 4,
 "nbformat_minor": 5
}
