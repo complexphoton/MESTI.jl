{
 "cells": [
  {
   "cell_type": "markdown",
   "id": "ba2bdd91-4c7b-484a-92dc-73d078ead93b",
   "metadata": {},
   "source": [
    "# Open Channel Through Disorder in 3D System"
   ]
  },
  {
   "cell_type": "markdown",
   "id": "eb6ff7d1-90ce-4f54-ace4-14b45759bcbd",
   "metadata": {},
   "source": [
    "In this example, we show how to use mesti2s() to compute the transmission matrix of a 3D scattering disordered medium, analyze the transmission matrix to determine an incident wavefront that can penetrate the disorder with almost 100% transmission (called an \"open channel\") in 3D system."
   ]
  },
  {
   "cell_type": "code",
   "execution_count": null,
   "id": "f2c5e796-7cef-4dbb-95e3-47989da518ca",
   "metadata": {},
   "outputs": [],
   "source": [
    "# call necessary packages\n",
    "using MESTI, Arpack, Printf\n",
    "\n",
    "# include the function to build permittivity tensor for the disordered \n",
    "# and plot the transmission eigenvalue distribution\n",
    "include(\"build_epsilon_disorder_3d.jl\")\n",
    "include(\"plot_and_compare_distribution.jl\");"
   ]
  },
  {
   "cell_type": "markdown",
   "id": "82605a8e-39bb-4ba3-b2ac-863e0ea7b5de",
   "metadata": {},
   "source": [
    "# System parameters"
   ]
  },
  {
   "cell_type": "code",
   "execution_count": null,
   "id": "67718af9-0bbf-4195-a09e-06fe00b0c27f",
   "metadata": {},
   "outputs": [],
   "source": [
    "# dimensions of the system, in units of µm\n",
    "lambda_0   = 0.532       # free space wavelength (µm) \n",
    "dx         = lambda_0/10 # discretization grid size (µm)\n",
    "W_x        = 4           # width of the scattering region along x-direction (µm)\n",
    "W_y        = 4           # width of the scattering region along y-direction (µm)\n",
    "L          = 2           # thickness of the scattering region (µm)\n",
    "r_min      = 0.1         # minimal radius of the cylindrical scatterers (µm)\n",
    "r_max      = 0.1         # maximal radius of the cylindrical scatterers (µm)\n",
    "min_sep    = 0.05        # minimal separation between cylinders (µm)\n",
    "rng_seed   = 0           # random number generator seed\n",
    "number_density = 28      # number density, in units of 1/lambda_0^2\n",
    "\n",
    "# relative permittivity, unitless\n",
    "epsilon_scat = 2.54^2  # cylindrical scatterers\n",
    "epsilon_bg   = 1.00^2  # background in the scattering region\n",
    "epsilon_low  = 1.00^2  # frees space on the low side\n",
    "epsilon_high = 1.00^2  # frees space on the high side\n",
    "\n",
    "# edge of the scattering region (where we put scatterers)\n",
    "x1 = 0  \n",
    "x2 = ceil(Int, W_x/dx) * dx\n",
    "y1 = 0\n",
    "y2 = ceil(Int, W_y/dx) * dx\n",
    "z1 = r_min\n",
    "z2 = (ceil(Int, L/dx)+1) * dx - r_min\n",
    "\n",
    "# generate a random collection of non-overlapping cylinders\n",
    "(epsilon_xx, epsilon_xy, epsilon_xz, \n",
    " epsilon_yx, epsilon_yy, epsilon_yz, \n",
    " epsilon_zx, epsilon_zy, epsilon_zz) = build_epsilon_disorder_3d(W_x, W_y, L, r_min, \n",
    "                                                                r_max, min_sep, number_density, \n",
    "                                                                rng_seed, dx, epsilon_scat,                                                                           epsilon_bg, \n",
    "                                                                x1, x2, y1, y2, z1, z2);"
   ]
  },
  {
   "cell_type": "markdown",
   "id": "e06862c9-e375-4268-b3ec-0ec55b6bb9e9",
   "metadata": {},
   "source": [
    "# Compute the transmission matrix "
   ]
  },
  {
   "cell_type": "code",
   "execution_count": null,
   "id": "05fed379-8d7c-447c-a5b7-d1b28b715dc1",
   "metadata": {},
   "outputs": [],
   "source": [
    "syst= Syst();\n",
    "syst.epsilon_low = epsilon_low\n",
    "syst.epsilon_high = epsilon_high\n",
    "syst.length_unit = \"µm\"\n",
    "syst.wavelength = lambda_0\n",
    "syst.dx = dx\n",
    "syst.xBC = \"periodic\"\n",
    "syst.yBC = \"periodic\"\n",
    "syst.epsilon_xx = epsilon_xx\n",
    "syst.epsilon_xy = epsilon_xy\n",
    "syst.epsilon_xz = epsilon_xz\n",
    "syst.epsilon_yx = epsilon_yx\n",
    "syst.epsilon_yy = epsilon_yy\n",
    "syst.epsilon_yz = epsilon_yz\n",
    "syst.epsilon_zx = epsilon_zx\n",
    "syst.epsilon_zy = epsilon_zy\n",
    "syst.epsilon_zz = epsilon_zz\n",
    "\n",
    "# specify inputs and output\n",
    "input = channel_type()\n",
    "output = channel_type()\n",
    "# input from the low side with both s-polarization and p-polarization\n",
    "input.side = \"low\"\n",
    "input.polarization = \"both\"\n",
    "# output to the high side with both s-polarization and p-polarization\n",
    "output.side = \"high\"\n",
    "output.polarization = \"both\"\n",
    "\n",
    "# put PML along z-direction\n",
    "pml = mesti_optimal_pml_params(syst.wavelength/syst.dx)\n",
    "pml_npixels = 20\n",
    "pml.npixels = pml_npixels\n",
    "syst.zPML = [pml]\n",
    "\n",
    "opts = Opts()\n",
    "# clear variables to reduce peak memory usage\n",
    "opts.clear_memory = true\n",
    "opts.clear_BC = true\n",
    "\n",
    "# note this transmission matrix calculation may take between one to two hours in single-core,\n",
    "# but a few minutes in mutlithreading calculation.\n",
    "# utilizting mutlithreading is highly recommended \n",
    "t, channels, _ = mesti2s(syst, input, output, opts)\n",
    "\n",
    "(_, sigma_max, v_open), _, _, _, _ = svds(t, nsv=1);"
   ]
  },
  {
   "cell_type": "markdown",
   "id": "a82f250f-6083-42f9-b407-9b3dc2dd5a11",
   "metadata": {},
   "source": [
    "# Compare an open channel and a plane-wave input"
   ]
  },
  {
   "cell_type": "code",
   "execution_count": null,
   "id": "bfefce8d-98a1-4988-b22a-8bc551177e8a",
   "metadata": {},
   "outputs": [],
   "source": [
    "# The most-open channels is the singular vector of the transmission matrix with \n",
    "# the largest singular value.\n",
    "(_, sigma_max, v_open), _, _, _, _ = svds(t, nsv=1)\n",
    "\n",
    "N_prop_low = channels.low.N_prop # number of propagating channels on the low side\n",
    "ind_normal = Int(round((N_prop_low+1)/2)) # index of the normal-incident plane-wave\n",
    "\n",
    "# compare the transmission\n",
    "T_avg = sum(abs.(t).^2)/(2*N_prop_low) # average over all channels\n",
    "T_PW  = sum(abs.(t[:,ind_normal]).^2) # normal-incident plane-wave\n",
    "T_open = sigma_max[1].^2 # open channel\n",
    "\n",
    "println(\" T_avg   = \", @sprintf(\"%.4f\", T_avg), \"\\n T_PW    = \", @sprintf(\"%.4f\", T_PW), \"\\n T_open  = \", @sprintf(\"%.4f\", T_open));"
   ]
  },
  {
   "cell_type": "markdown",
   "metadata": {},
   "source": [
    "# Plot the the transmission eigenvalue distribution"
   ]
  },
  {
   "cell_type": "code",
   "execution_count": null,
   "metadata": {},
   "outputs": [],
   "source": [
    "# plot the transmission eigenvalue distribution from transmission matrix t\n",
    "# and compare it with the analytic distribution (bimodal DMPK distribution)\n",
    "plot_and_compare_distribution(t);"
   ]
  }
 ],
 "metadata": {
  "kernelspec": {
   "display_name": "Julia 1.9.3",
   "language": "julia",
   "name": "julia-1.9"
  },
  "language_info": {
   "file_extension": ".jl",
   "mimetype": "application/julia",
   "name": "julia",
   "version": "1.9.3"
  }
 },
 "nbformat": 4,
 "nbformat_minor": 5
}
